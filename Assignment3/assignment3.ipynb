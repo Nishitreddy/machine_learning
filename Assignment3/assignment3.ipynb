{
 "cells": [
  {
   "cell_type": "code",
   "execution_count": 1,
   "id": "e8b88885-6db1-47cb-ae08-fe74ba263901",
   "metadata": {
    "tags": []
   },
   "outputs": [
    {
     "name": "stdout",
     "output_type": "stream",
     "text": [
      "Array shape: (3, 5)\n",
      "Modified array:\n",
      " [[ 0  2 14  7 16]\n",
      " [ 5 15  8  7  0]\n",
      " [ 1  6  0  1  8]]\n"
     ]
    }
   ],
   "source": [
    "#Question 1.a\n",
    "import numpy as np\n",
    "integer_vec = np.random.randint(low=1, high=21, size=15)\n",
    "arrTest = integer_vec.reshape((3, 5))\n",
    "print(\"Array shape:\", arrTest.shape)\n",
    "arrTest[np.arange(arrTest.shape[0]), np.argmax(arrTest, axis=1)] = 0\n",
    "print(\"Modified array:\\n\", arrTest)\n"
   ]
  },
  {
   "cell_type": "markdown",
   "id": "2561ed18",
   "metadata": {},
   "source": [
    "We use random.randint present in numpy to create the random values\n",
    "Then we use the argmax, arrange functions\n"
   ]
  },
  {
   "cell_type": "code",
   "execution_count": 2,
   "id": "32b7f08e-5aaa-4075-9ce9-325cbe402fcc",
   "metadata": {
    "tags": []
   },
   "outputs": [
    {
     "name": "stdout",
     "output_type": "stream",
     "text": [
      "Eigenvalues: [2. 1.]\n",
      "Right eigenvectors:\n",
      " [[0.89442719 0.70710678]\n",
      " [0.4472136  0.70710678]]\n"
     ]
    }
   ],
   "source": [
    "#Question 1.b\n",
    "import numpy as np\n",
    "\n",
    "# Define the square array\n",
    "A = np.array([[3, -2], [1, 0]])\n",
    "\n",
    "# Compute the eigenvalues and right eigenvectors\n",
    "eigenvalues, eigenvectors = np.linalg.eig(A)\n",
    "\n",
    "# Print the results\n",
    "print(\"Eigenvalues:\", eigenvalues)\n",
    "print(\"Right eigenvectors:\\n\", eigenvectors)\n"
   ]
  },
  {
   "cell_type": "markdown",
   "id": "e7b3ecd6-2174-4be6-9105-3f26e868e373",
   "metadata": {},
   "source": [
    "We use lingasl.eig to compute the eigen value and right eigen vector\n"
   ]
  },
  {
   "cell_type": "code",
   "execution_count": 3,
   "id": "f790bb6a-a2ae-43ad-a1eb-aabb3cd1243b",
   "metadata": {
    "tags": []
   },
   "outputs": [
    {
     "name": "stdout",
     "output_type": "stream",
     "text": [
      "Sum of diagonal elements: 4\n"
     ]
    }
   ],
   "source": [
    "#Question 1.c\n",
    "import numpy as np\n",
    "\n",
    "# Define the array\n",
    "input = np.array([[0, 1, 2], [3, 4, 5]])\n",
    "\n",
    "# Compute the sum of the diagonal elements\n",
    "diagonalSum = np.trace(input)\n",
    "\n",
    "# Print the result\n",
    "print(\"Sum of diagonal elements:\", diagonalSum)\n"
   ]
  },
  {
   "cell_type": "markdown",
   "id": "8ccfec74",
   "metadata": {},
   "source": [
    "In this we use the trace function to find the sum of diagonal element "
   ]
  },
  {
   "cell_type": "markdown",
   "id": "d8978987-039c-43cf-b948-e5fa144f0780",
   "metadata": {},
   "source": []
  },
  {
   "cell_type": "code",
   "execution_count": 4,
   "id": "8ac4807a-f615-4eb1-b909-0636a30c8e4d",
   "metadata": {
    "tags": []
   },
   "outputs": [
    {
     "name": "stdout",
     "output_type": "stream",
     "text": [
      "Original array:\n",
      "[[1 2]\n",
      " [3 4]\n",
      " [5 6]]\n",
      "\n",
      "New array:\n",
      "[[1 2 3]\n",
      " [4 5 6]]\n"
     ]
    }
   ],
   "source": [
    "#Question 1.d\n",
    "import numpy as np\n",
    "\n",
    "# Create a NumPy array\n",
    "arr = np.array([[1, 2], [3, 4], [5, 6]])\n",
    "\n",
    "# Reshape the array to 2x3 shape without changing data\n",
    "new_arr = arr.reshape(2, 3)\n",
    "\n",
    "# Print the original and new array\n",
    "print(\"Original array:\")\n",
    "print(arr)\n",
    "print(\"\\nNew array:\")\n",
    "print(new_arr)\n",
    "\n"
   ]
  },
  {
   "cell_type": "markdown",
   "id": "f9ea9eb6",
   "metadata": {},
   "source": [
    "Reshape function from the numpy module is used to reshape the array  "
   ]
  },
  {
   "cell_type": "code",
   "execution_count": 5,
   "id": "10d7b979-8c45-4294-be40-1da39bf5ed93",
   "metadata": {},
   "outputs": [
    {
     "data": {
      "image/png": "[encoded data removed]",
      "text/plain": [
       "<Figure size 640x480 with 1 Axes>"
      ]
     },
     "metadata": {},
     "output_type": "display_data"
    }
   ],
   "source": [
    "#Question2\n",
    "import matplotlib.pyplot as plt\n",
    "import numpy as np\n",
    "\n",
    "input = np.array([35, 25, 25, 15])\n",
    "mylabels = [\"Apples\", \"Bananas\", \"Cherries\", \"Dates\"]\n",
    "\n",
    "plt.pie(input, labels = mylabels, autopct='%1.1f%%')\n",
    "plt.show() "
   ]
  },
  {
   "cell_type": "markdown",
   "id": "46bf50ff",
   "metadata": {},
   "source": [
    "Here we use matploitlib.pyplot and use to pie function to generate the pie chart of given data."
   ]
  },
  {
   "cell_type": "code",
   "execution_count": null,
   "id": "38dedd09",
   "metadata": {},
   "outputs": [],
   "source": []
  }
 ],
 "metadata": {
  "kernelspec": {
   "display_name": "Python 3 (ipykernel)",
   "language": "python",
   "name": "python3"
  },
  "language_info": {
   "codemirror_mode": {
    "name": "ipython",
    "version": 3
   },
   "file_extension": ".py",
   "mimetype": "text/x-python",
   "name": "python",
   "nbconvert_exporter": "python",
   "pygments_lexer": "ipython3",
   "version": "3.11.0"
  }
 },
 "nbformat": 4,
 "nbformat_minor": 5
}
